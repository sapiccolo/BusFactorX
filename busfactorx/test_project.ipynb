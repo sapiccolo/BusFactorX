{
 "cells": [
  {
   "cell_type": "code",
   "execution_count": 1,
   "metadata": {},
   "outputs": [],
   "source": [
    "from project import Project\n",
    "import numpy as np\n",
    "import scipy as sp"
   ]
  },
  {
   "cell_type": "code",
   "execution_count": 2,
   "metadata": {},
   "outputs": [],
   "source": [
    "# Generating a random bipartite graph\n",
    "\n",
    "n = 12000          # Number of tasks\n",
    "m = 50000          # Number of people\n",
    "k = 10             # Average degree\n",
    "\n",
    "rng = np.random.default_rng()\n",
    "rows = np.zeros(m*k, dtype=np.uint32)\n",
    "cols = np.zeros(m*k, dtype=np.uint32)\n",
    "\n",
    "start_index = 0\n",
    "for i in np.arange(m, dtype=np.uint32):\n",
    "    col = np.unique(rng.integers(0, n, k, np.uint32)) # generate random task adjacencies\n",
    "    end_index = start_index + col.shape[0]\n",
    "    cols[start_index:end_index] = col\n",
    "    rows[start_index:end_index] = i\n",
    "    start_index = end_index"
   ]
  },
  {
   "cell_type": "code",
   "execution_count": 3,
   "metadata": {},
   "outputs": [],
   "source": [
    "# Preparing data for the sparse array construction\n",
    "cols = cols[0:end_index]\n",
    "rows = rows[0:end_index]\n",
    "data = np.ones(cols.shape, dtype=np.uint8)"
   ]
  },
  {
   "cell_type": "code",
   "execution_count": 4,
   "metadata": {},
   "outputs": [],
   "source": [
    "# The coordinate representation (COO) is perfect to build a sparse graph\n",
    "# when we have already all the data we need as we did before. This format does not allow any operation.\n",
    "B = sp.sparse.coo_array((data, (rows, cols)))"
   ]
  },
  {
   "cell_type": "code",
   "execution_count": 5,
   "metadata": {},
   "outputs": [],
   "source": [
    "# Converting the matrix in compressed sparse row format. The COO representation allows fast transformation in the \n",
    "# CSR (column sparse representation) format, which is suitable for analysis, but not to change the sparsity of the matrix.\n",
    "B = B.tocsr()"
   ]
  },
  {
   "cell_type": "code",
   "execution_count": 6,
   "metadata": {},
   "outputs": [
    {
     "data": {
      "text/plain": [
       "<50000x12000 sparse array of type '<class 'numpy.uint8'>'\n",
       "\twith 499827 stored elements in Compressed Sparse Row format>"
      ]
     },
     "execution_count": 6,
     "metadata": {},
     "output_type": "execute_result"
    }
   ],
   "source": [
    "B"
   ]
  },
  {
   "cell_type": "code",
   "execution_count": 7,
   "metadata": {},
   "outputs": [],
   "source": [
    "del cols, rows, data"
   ]
  },
  {
   "cell_type": "code",
   "execution_count": 8,
   "metadata": {},
   "outputs": [],
   "source": [
    "# Using our class Project to compute all the metrics we need\n",
    "P = Project(B)"
   ]
  },
  {
   "cell_type": "code",
   "execution_count": 9,
   "metadata": {},
   "outputs": [],
   "source": [
    "# Compute the MRS of the project\n",
    "num_people, redundant_set = P.compute_maximum_redundant_set(p=0.5)"
   ]
  },
  {
   "cell_type": "code",
   "execution_count": 10,
   "metadata": {},
   "outputs": [
    {
     "name": "stdout",
     "output_type": "stream",
     "text": [
      "49397\n"
     ]
    }
   ],
   "source": [
    "print(num_people)"
   ]
  },
  {
   "cell_type": "code",
   "execution_count": 11,
   "metadata": {},
   "outputs": [],
   "source": [
    "# Compute the MCS of the project\n",
    "avelino_bus_factor = P.compute_minimum_critical_set(p=0.5)"
   ]
  },
  {
   "cell_type": "code",
   "execution_count": 12,
   "metadata": {},
   "outputs": [
    {
     "name": "stdout",
     "output_type": "stream",
     "text": [
      "49152\n"
     ]
    }
   ],
   "source": [
    "print(avelino_bus_factor)"
   ]
  },
  {
   "cell_type": "code",
   "execution_count": 13,
   "metadata": {},
   "outputs": [],
   "source": [
    "# Compute the bus-factor according to the Piccolo et al. definition\n",
    "piccolo_bus_factor = P.compute_bus_factor_network_robustness()"
   ]
  },
  {
   "cell_type": "code",
   "execution_count": 14,
   "metadata": {},
   "outputs": [
    {
     "name": "stdout",
     "output_type": "stream",
     "text": [
      "0.9752734710681378\n"
     ]
    }
   ],
   "source": [
    "print(piccolo_bus_factor)"
   ]
  },
  {
   "cell_type": "code",
   "execution_count": null,
   "metadata": {},
   "outputs": [],
   "source": []
  }
 ],
 "metadata": {
  "kernelspec": {
   "display_name": "tf",
   "language": "python",
   "name": "python3"
  },
  "language_info": {
   "codemirror_mode": {
    "name": "ipython",
    "version": 3
   },
   "file_extension": ".py",
   "mimetype": "text/x-python",
   "name": "python",
   "nbconvert_exporter": "python",
   "pygments_lexer": "ipython3",
   "version": "3.9.18"
  }
 },
 "nbformat": 4,
 "nbformat_minor": 2
}
